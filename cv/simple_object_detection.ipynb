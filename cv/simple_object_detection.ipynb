{
 "cells": [
  {
   "cell_type": "code",
   "execution_count": null,
   "metadata": {
    "collapsed": false
   },
   "outputs": [],
   "source": [
    "import cv2\n",
    "import numpy as np\n",
    "from matplotlib import pyplot as plt\n"
   ]
  },
  {
   "cell_type": "code",
   "execution_count": null,
   "metadata": {
    "collapsed": false
   },
   "outputs": [],
   "source": [
    "img=cv2.imread(\"test.jpeg\",0)\n",
    "img_orig=cv2.imread(\"test.jpeg\")\n",
    "edges = cv2.Canny(img,50,150,apertureSize = 3)\n",
    "plt.subplot(),plt.imshow(img_orig,cmap = 'gray')\n",
    "plt.title('Original Image'), plt.xticks([]), plt.yticks([])\n",
    "plt.subplot(),plt.imshow(edges,cmap = 'gray')\n",
    "plt.title('Edge Image'), plt.xticks([]), plt.yticks([])\n",
    "plt.show()"
   ]
  },
  {
   "cell_type": "code",
   "execution_count": null,
   "metadata": {
    "collapsed": false
   },
   "outputs": [],
   "source": [
    "lines = cv2.HoughLinesP(edges,1,np.pi/180,80,30,10)\n",
    "mc=[]\n",
    "for line in lines:\n",
    "    for x1,y1,x2,y2 in line:\n",
    "        \n",
    "        if(x2==x1):\n",
    "            \n",
    "                m=9999\n",
    "            \n",
    "                \n",
    "                c=x2\n",
    "        else:\n",
    "            m=float(y2-y1)/float(x2-x1)\n",
    "            c=float(y1-float(m*x1))\n",
    "    mc.append([round(m,1),c,[x1,y1,x2,y2]])\n",
    "mc=sorted(mc,key=lambda x: x[0])\n",
    "for m in mc:\n",
    "    print m"
   ]
  },
  {
   "cell_type": "code",
   "execution_count": null,
   "metadata": {
    "collapsed": false
   },
   "outputs": [],
   "source": [
    "t=[]\n",
    "k=mc[0][0]\n",
    "d=[mc[0][1]]\n",
    "for m in range(1,len(mc)):\n",
    "    if mc[m][0]!=mc[m-1][0]:\n",
    "        t.append([k,d])\n",
    "        k=mc[m][0]\n",
    "        d=[mc[m][1]]\n",
    "    else:\n",
    "        d.append(mc[m][1])\n",
    "t.append([k,d])\n",
    "\n",
    "for m in range(len(t)):\n",
    "    t[m][1]=sorted(t[m][1])\n",
    "\n",
    "temp=[]\n",
    "for m in t:\n",
    "    ct=0\n",
    "    for n in range(1,len(m[1])):\n",
    "        if int(m[1][n]) not in range(int(m[1][n-1]-10),int(m[1][n-1]+10)):\n",
    "            temp.append([m[0],m[1][ct:n]])\n",
    "            \n",
    "            ct=n\n",
    "    temp.append([m[0],m[1][ct:n+1]])\n",
    "    \n",
    "for m in range(len(temp)):\n",
    "    temp[m][1]=sum(temp[m][1])/len(temp[m][1])\n",
    "    \n",
    "print temp   "
   ]
  },
  {
   "cell_type": "code",
   "execution_count": null,
   "metadata": {
    "collapsed": false
   },
   "outputs": [],
   "source": [
    "img_buff1=img_orig\n",
    "for m in temp:\n",
    "    if m[0]==9999.0:\n",
    "        cv2.line(img_buff1,(int(m[1]),0),(int(m[1]),img.shape[0]),(0,0,255),2)\n",
    "    elif m[0]==0.0:\n",
    "        cv2.line(img_buff1,(0,int(m[1])),(img.shape[1],int(m[1])),(0,0,255),2)\n",
    "    else:\n",
    "        x1=0\n",
    "        x2=img.shape[1]\n",
    "        y1=m[1]\n",
    "        y2=(x2*m[0])+m[1]\n",
    "        cv2.line(img_buff1,(int(x1),int(y1)),(int(x2),int(y2)),(0,0,255),2)\n",
    "plt.subplot(),plt.imshow(img_buff1,cmap = 'gray')\n",
    "plt.title('Detected Lines'), plt.xticks([]), plt.yticks([])\n",
    "plt.show()"
   ]
  },
  {
   "cell_type": "code",
   "execution_count": null,
   "metadata": {
    "collapsed": false
   },
   "outputs": [],
   "source": []
  },
  {
   "cell_type": "code",
   "execution_count": 5,
   "metadata": {
    "collapsed": false
   },
   "outputs": [
    {
     "name": "stdout",
     "output_type": "stream",
     "text": [
      "[0, 1, 2, 3, 4]\n",
      "[0, 1, 2, 3, 4]\n",
      "[0, 1, 2, 3, 4]\n",
      "element\n",
      "0\n",
      "4 [-1, 1, 2, 3, 4]\n",
      "[-1, 1, 2, 3, 4]\n",
      "element\n",
      "1\n",
      "4 [-1, 0, 2, 3, 4]\n",
      "[-1, 0, 2, 3, 4]\n",
      "element\n",
      "2\n",
      "1 [-1, 0, 2, 3, 4]\n",
      "[-1, 0, 2, 3, 4]\n",
      "element\n",
      "3\n",
      "2 [-1, 0, 2, 4, 3]\n",
      "[-1, 0, 2, 4, 3]\n",
      "element\n",
      "4\n",
      "4 [-1, 0, 2, 4, 2]\n"
     ]
    }
   ],
   "source": [
    "# 1. If i is a multiple of 2 and i is greater than 0,\n",
    "#      array[i] = array[i] + array[i - 1]\n",
    "# 2. If i is a multiple of 3 and i is greater than 0 and i + 1 < L,\n",
    "#      Swap array[i] and array[i + 1]\n",
    "# 3. If i is a multiple of 5 and i is greater than 0,\n",
    "#      array[i] = array[i] * 2\n",
    "# 4. If i is a multiple of 7 or when no other rules apply,\n",
    "#      array[i] = array[i] - 1\n",
    "\n",
    "array=[0,1,2,3,4]\n",
    "ar=a\n",
    "for i in range(len(array)):\n",
    "    flg=0\n",
    "    print i\n",
    "    if(array[i]%2==0 and i!=0) and (i>0) :\n",
    "        array[i]=array[i] + array[i - 1]\n",
    "        flg=1\n",
    "        print 1,\n",
    "    if(i%3==0) and ((i+1)<len(array)) and i!=0:\n",
    "        k=array[i]\n",
    "        array[i]=array[i+1]\n",
    "        array[i+1]=k\n",
    "        flg=1\n",
    "        print 2,\n",
    "    if(i%5==0) and (i>0):\n",
    "        array[i] = array[i] * 2\n",
    "        flg=1\n",
    "        print 3,\n",
    "    if (i%7==0) or flg==0:\n",
    "        array[i] = array[i] - 1\n",
    "        print 4,\n",
    "print array"
   ]
  },
  {
   "cell_type": "code",
   "execution_count": null,
   "metadata": {
    "collapsed": true
   },
   "outputs": [],
   "source": []
  }
 ],
 "metadata": {
  "kernelspec": {
   "display_name": "Python 2",
   "language": "python",
   "name": "python2"
  },
  "language_info": {
   "codemirror_mode": {
    "name": "ipython",
    "version": 2
   },
   "file_extension": ".py",
   "mimetype": "text/x-python",
   "name": "python",
   "nbconvert_exporter": "python",
   "pygments_lexer": "ipython2",
   "version": "2.7.11"
  }
 },
 "nbformat": 4,
 "nbformat_minor": 0
}
