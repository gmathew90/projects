{
 "cells": [
  {
   "cell_type": "code",
   "execution_count": 10,
   "metadata": {
    "collapsed": true
   },
   "outputs": [],
   "source": [
    "import math\n",
    "import numpy as np\n",
    "from scipy.sparse import csr_matrix, lil_matrix\n",
    "from sklearn.feature_extraction.text import CountVectorizer"
   ]
  },
  {
   "cell_type": "code",
   "execution_count": 26,
   "metadata": {
    "collapsed": false
   },
   "outputs": [],
   "source": [
    "movie_names = ['Avatar', 'Get Shorty', 'Princess Bride', 'Goonies']\n",
    "movie_descriptions = [\n",
    "    'an epic science fiction film',\n",
    "    'a crime thriller comedy film; adapted from a book',\n",
    "    'a fantasy comedy adventure film; adapted from a book',\n",
    "    'an adventure comedy film'\n",
    "]\n",
    "# ratings: row=user, col=movie\n",
    "# All ratings are between 0 and 1, with 1 meaning the user really liked the movie.\n",
    "# A 0 value means the user has not rated the movie.\n",
    "ratings = csr_matrix([\n",
    "    [.1, 0, .2, 0],\n",
    "    [0, .9, 0, .3],\n",
    "    [.3, 0, .9, 0],\n",
    "    [0, 0, 0, .4],\n",
    "    [0, 0, .3, .4]\n",
    "    ])"
   ]
  },
  {
   "cell_type": "code",
   "execution_count": 27,
   "metadata": {
    "collapsed": false
   },
   "outputs": [
    {
     "name": "stdout",
     "output_type": "stream",
     "text": [
      "movie_term_matrix:\n",
      "[[ 0.  0.  0.  1.  0.  0.  0.  1.  0.  1.  1.  0.  1.  0.]\n",
      " [ 2.  1.  0.  0.  1.  1.  1.  0.  0.  0.  1.  1.  0.  1.]\n",
      " [ 2.  1.  1.  0.  1.  1.  0.  0.  1.  0.  1.  1.  0.  0.]\n",
      " [ 0.  0.  1.  1.  0.  1.  0.  0.  0.  0.  1.  0.  0.  0.]]\n",
      "vocabulary\n",
      "[u'a' u'adapted' u'adventure' u'an' u'book' u'comedy' u'crime' u'epic'\n",
      " u'fantasy' u'fiction' u'film' u'from' u'science' u'thriller']\n"
     ]
    }
   ],
   "source": [
    "# Do not modify.\n",
    "vectorizer = CountVectorizer(token_pattern=r'(?u)\\b\\w+\\b', dtype=np.float)\n",
    "movie_term_matrix = vectorizer.fit_transform(movie_descriptions)\n",
    "vocabulary = np.array(vectorizer.get_feature_names())\n",
    "print('movie_term_matrix:')\n",
    "print(movie_term_matrix.todense())\n",
    "print('vocabulary')\n",
    "print(vocabulary)\n",
    "\n",
    "# movie_term_matrix: value i,j is the frequency of term j in the description of movie i."
   ]
  },
  {
   "cell_type": "code",
   "execution_count": 28,
   "metadata": {
    "collapsed": false
   },
   "outputs": [
    {
     "data": {
      "text/plain": [
       "array([ 2.,  2.,  2.,  2.,  2.,  3.,  1.,  1.,  1.,  1.,  4.,  2.,  1.,  1.])"
      ]
     },
     "execution_count": 28,
     "metadata": {},
     "output_type": "execute_result"
    }
   ],
   "source": [
    "def document_frequencies(movie_term_matrix):\n",
    "    \"\"\" Compute the number of different documents that each term appears in.\n",
    "    Params:\n",
    "      movie_term_matrix...csr_matrix where entry i,j is the number\n",
    "                          of times term j appears in document i\n",
    "    Returns:\n",
    "      a numpy array with one element per term in the vocabulary.\"\"\"\n",
    "    ###TODO\n",
    "    ###\n",
    "    arr=np.array(movie_term_matrix.todense())\n",
    "    for m in range(arr.shape[0]):\n",
    "        for n in range(arr.shape[1]):\n",
    "            if (arr[m][n]!=0):\n",
    "                arr[m][n]=1\n",
    "    return arr.sum(axis=0)\n",
    "    \n",
    "dfs = document_frequencies(movie_term_matrix)\n",
    "dfs"
   ]
  },
  {
   "cell_type": "code",
   "execution_count": 32,
   "metadata": {
    "collapsed": false
   },
   "outputs": [
    {
     "data": {
      "text/plain": [
       "matrix([[ 0.        ,  0.        ,  0.        ,  0.5       ,  0.        ,\n",
       "          0.        ,  0.        ,  1.        ,  0.        ,  1.        ,\n",
       "          0.25      ,  0.        ,  1.        ,  0.        ],\n",
       "        [ 1.        ,  0.5       ,  0.        ,  0.        ,  0.5       ,\n",
       "          0.33333333,  1.        ,  0.        ,  0.        ,  0.        ,\n",
       "          0.25      ,  0.5       ,  0.        ,  1.        ],\n",
       "        [ 1.        ,  0.5       ,  0.5       ,  0.        ,  0.5       ,\n",
       "          0.33333333,  0.        ,  0.        ,  1.        ,  0.        ,\n",
       "          0.25      ,  0.5       ,  0.        ,  0.        ],\n",
       "        [ 0.        ,  0.        ,  0.5       ,  0.5       ,  0.        ,\n",
       "          0.33333333,  0.        ,  0.        ,  0.        ,  0.        ,\n",
       "          0.25      ,  0.        ,  0.        ,  0.        ]])"
      ]
     },
     "execution_count": 32,
     "metadata": {},
     "output_type": "execute_result"
    }
   ],
   "source": [
    "def tfidf(movie_term_matrix, dfs):\n",
    "    \"\"\" Create a new matrix that transforms movie_term_matrix using tfidf.\n",
    "    Simply divide each value by the document frequency for that term.\n",
    "    \n",
    "    Params:\n",
    "      movie_term_matrix...csr_matrix where entry i,j is the number\n",
    "                          of times term j appears in document i\n",
    "      dfs.................document frequencies for each term.\n",
    "    Returns:\n",
    "      A csr_matrix that is a copy of movie_term_matrix where value\n",
    "      i,j is divided by the document frequency of term j\"\"\"\n",
    "    ###TODO    \n",
    "    ###\n",
    "    arr=movie_term_matrix.copy()\n",
    "    for m in range(len(arr.indices)):\n",
    "        arr.data[m]=arr.data[m]/dfs[arr.indices[m]]\n",
    "    return arr\n",
    "\n",
    "# tfidf matrix: row=movie, col=term\n",
    "tfidf_matrix = tfidf(movie_term_matrix, dfs)\n",
    "tfidf_matrix.todense()"
   ]
  },
  {
   "cell_type": "code",
   "execution_count": 36,
   "metadata": {
    "collapsed": false
   },
   "outputs": [
    {
     "data": {
      "text/plain": [
       "matrix([[ 0.66666667,  0.33333333,  0.33333333,  0.16666667,  0.33333333,\n",
       "          0.22222222,  0.        ,  0.33333333,  0.66666667,  0.33333333,\n",
       "          0.25      ,  0.33333333,  0.33333333,  0.        ],\n",
       "        [ 0.75      ,  0.375     ,  0.125     ,  0.125     ,  0.375     ,\n",
       "          0.33333333,  0.75      ,  0.        ,  0.        ,  0.        ,\n",
       "          0.25      ,  0.375     ,  0.        ,  0.75      ],\n",
       "        [ 0.75      ,  0.375     ,  0.375     ,  0.125     ,  0.375     ,\n",
       "          0.25      ,  0.        ,  0.25      ,  0.75      ,  0.25      ,\n",
       "          0.25      ,  0.375     ,  0.25      ,  0.        ],\n",
       "        [ 0.        ,  0.        ,  0.5       ,  0.5       ,  0.        ,\n",
       "          0.33333333,  0.        ,  0.        ,  0.        ,  0.        ,\n",
       "          0.25      ,  0.        ,  0.        ,  0.        ],\n",
       "        [ 0.42857143,  0.21428571,  0.5       ,  0.28571429,  0.21428571,\n",
       "          0.33333333,  0.        ,  0.        ,  0.42857143,  0.        ,\n",
       "          0.25      ,  0.21428571,  0.        ,  0.        ]])"
      ]
     },
     "execution_count": 36,
     "metadata": {},
     "output_type": "execute_result"
    }
   ],
   "source": [
    "def make_user_profiles(ratings, tfidf_matrix):\n",
    "    \"\"\"\n",
    "    Create a user profile matrix by computing the weighted average of the tfidf\n",
    "    vectors of each movie he has rated. E.g., if a person has rated \n",
    "    one movie .2 with tfidf vector ([.1, .3]) and rated another movie\n",
    "    .6 with tfidf vector([.2, .4]), then the weighted average is:\n",
    "    [(.2*.1 + .6*.2) / (.2 + .6), (.2*.3 + .6*.4) / (.2 + .6)]\n",
    "    Params:\n",
    "      ratings........the user/movie ratings matrix\n",
    "      tfidf_matrix...the movie/term tfidf matrix\n",
    "    Returns:\n",
    "      A csr matrix where each row represents a user and the columns represent terms.\n",
    "    \"\"\"\n",
    "    ###TODO\n",
    "    ###\n",
    "    temp1=tfidf_matrix.todense()\n",
    "    \n",
    "    temp2=ratings.todense()\n",
    "    \n",
    "    m=np.dot(temp2,temp1)\n",
    "    temp3=temp2.tolist()\n",
    "    for n in range(len(temp3)):\n",
    "        m[n]=m[n]/sum(temp3[n])\n",
    "    return csr_matrix(m)\n",
    "user_profiles = make_user_profiles(ratings, tfidf_matrix)\n",
    "user_profiles.todense()"
   ]
  },
  {
   "cell_type": "code",
   "execution_count": 37,
   "metadata": {
    "collapsed": false
   },
   "outputs": [
    {
     "data": {
      "text/plain": [
       "5.0"
      ]
     },
     "execution_count": 37,
     "metadata": {},
     "output_type": "execute_result"
    }
   ],
   "source": [
    "def norm(vector):\n",
    "    \"\"\"\n",
    "    Compute the Euclidean norm of one row of a csr_matrix.\n",
    "    https://en.wikipedia.org/wiki/Norm_(mathematics)#Euclidean_norm\n",
    "    Input:\n",
    "      vector...one row from a csr_matrix\n",
    "    Returns:\n",
    "      a float, the Euclidean norm of the vector.\n",
    "    \"\"\"\n",
    "    ###TODO\n",
    "    ###\n",
    "    k=vector.todense()\n",
    "    p=k.tolist() \n",
    "    n=0\n",
    "    for m in p[0]:\n",
    "        n=n+(m**2)\n",
    "    return n**0.5\n",
    "    \n",
    "norm(csr_matrix([3,4]))"
   ]
  },
  {
   "cell_type": "code",
   "execution_count": 38,
   "metadata": {
    "collapsed": false
   },
   "outputs": [
    {
     "data": {
      "text/plain": [
       "0.99451"
      ]
     },
     "execution_count": 38,
     "metadata": {},
     "output_type": "execute_result"
    }
   ],
   "source": [
    "def cosine(v1, v2):\n",
    "    \"\"\"\n",
    "    Compute the cosine similarity between two vectors (rows from a csr_matrix).\n",
    "    https://en.wikipedia.org/wiki/Cosine_similarity\n",
    "    Params:\n",
    "      v1...one vector\n",
    "      v2...another vector\n",
    "    Returns:\n",
    "      a float representing the cosine similarity/\n",
    "    \"\"\"\n",
    "    ###TODO\n",
    "    ###\n",
    "    k1=v1.todense()\n",
    "    p1=k1.tolist() \n",
    "    k2=v2.todense()\n",
    "    p2=k2.tolist()\n",
    "    num=0\n",
    "    for m in range(len(p1[0])):\n",
    "        num= num + (p2[0][m]*p1[0][m])\n",
    "    \n",
    "    return (num/(norm(v1)*norm(v2)) )   \n",
    "\n",
    "round(cosine(csr_matrix([2,4]), csr_matrix([3,8])), 5)"
   ]
  },
  {
   "cell_type": "code",
   "execution_count": 39,
   "metadata": {
    "collapsed": false
   },
   "outputs": [
    {
     "data": {
      "text/plain": [
       "matrix([[ 0.1       ,  0.48953468,  0.2       ,  0.35045309],\n",
       "        [ 0.04514693,  0.9       ,  0.57142822,  0.3       ],\n",
       "        [ 0.3       ,  0.51857187,  0.9       ,  0.33970573],\n",
       "        [ 0.20920278,  0.10678984,  0.28972493,  0.4       ],\n",
       "        [ 0.11225271,  0.46388588,  0.3       ,  0.4       ]])"
      ]
     },
     "execution_count": 39,
     "metadata": {},
     "output_type": "execute_result"
    }
   ],
   "source": [
    "def predict_ratings_w_user_profiles(ratings, user_profiles, tfidf_matrix):\n",
    "    \"\"\"\n",
    "    Make a copy of the ratings matrix. Replace each 0 entry with a predicted score\n",
    "    based on user_profile. Specifically, the ratings of user i for movie j is the \n",
    "    cosine similarity between user i's profile and movie's j tfidf vector.\n",
    "    \n",
    "    Params:\n",
    "      ratings.........the user x movie ratings matrix.\n",
    "      user_profiles...the user x term profile matrix\n",
    "      tfidf_matrix....the move x term tfidf matrix\n",
    "    Returns:\n",
    "      a user x movie csr_matrix of ratings. It should be a copy of the original\n",
    "      ratings matrix, where 0 values have been replaced by the prediced rating.\n",
    "    \"\"\"\n",
    "    ###TODO\n",
    "    ###\n",
    "    arr=ratings.todense().tolist()\n",
    "    l=[]\n",
    "    a=[]\n",
    "    for m in range(len(arr)):\n",
    "        l=[]\n",
    "        for n in range(len(arr[m])):\n",
    "            if arr[m][n]==0:\n",
    "                l.append(cosine(tfidf_matrix[n],user_profiles[m]))\n",
    "            else:\n",
    "                l.append(arr[m][n])\n",
    "        a.append(l)\n",
    "    \n",
    "    return csr_matrix(a)\n",
    "\n",
    "predicted = predict_ratings_w_user_profiles(ratings, user_profiles, tfidf_matrix)\n",
    "predicted.todense()"
   ]
  },
  {
   "cell_type": "code",
   "execution_count": 40,
   "metadata": {
    "collapsed": false
   },
   "outputs": [],
   "source": [
    "import json\n",
    "\n",
    "def doround(x):\n",
    "    return ['%.3f' % i for i in x]\n",
    "\n",
    "outf = open('output.txt', 'wt')\n",
    "json.dump(\n",
    "    {\n",
    "        'dfs': doround(document_frequencies(movie_term_matrix).tolist()),\n",
    "        'tfidf': doround(tfidf(movie_term_matrix, dfs).todense().A1),\n",
    "        'profiles': doround(make_user_profiles(ratings, tfidf(movie_term_matrix, dfs)).todense().A1),\n",
    "        'norm': round(norm(csr_matrix([5,6])), 2),\n",
    "        'cosine': round(cosine(csr_matrix([5,6]), csr_matrix([-5,-1])), 2),\n",
    "        'predicted': doround(predict_ratings_w_user_profiles(ratings,\n",
    "                                                     make_user_profiles(ratings, tfidf(movie_term_matrix, dfs)),\n",
    "                                                     tfidf(movie_term_matrix, dfs)).todense().A1),\n",
    "    },\n",
    "    outf, indent=2, sort_keys=True)\n",
    "outf.close()"
   ]
  },
  {
   "cell_type": "code",
   "execution_count": null,
   "metadata": {
    "collapsed": true
   },
   "outputs": [],
   "source": []
  }
 ],
 "metadata": {
  "kernelspec": {
   "display_name": "Python 2",
   "language": "python",
   "name": "python2"
  }
 },
 "nbformat": 4,
 "nbformat_minor": 0
}
